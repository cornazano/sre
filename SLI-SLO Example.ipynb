{
 "cells": [
  {
   "cell_type": "markdown",
   "metadata": {},
   "source": [
    "In this notebook, we'll be using pandas to work with time series of events. The following imports enable this without repeating them in all of the later portions."
   ]
  },
  {
   "cell_type": "code",
   "execution_count": 1,
   "metadata": {},
   "outputs": [],
   "source": [
    "import pandas as pd"
   ]
  },
  {
   "cell_type": "markdown",
   "metadata": {},
   "source": [
    "# Visualizing Service Level Indicators"
   ]
  },
  {
   "cell_type": "markdown",
   "metadata": {},
   "source": [
    "A _service level indicator_ (SLI) is a measure of the quality of service being provided by a service. Following the recommendation in Bayer et al. (2018), we will consider SLIs as a ratio of _good events_ to _valid events_. \n",
    "\n",
    "We can explore how to visualize an SLI by working through an example. The following data buckets the events into 6-hour periods, covering 9 days. Each row provides a labeled for the time period, the number of valid events, and the number of those events that are considered good."
   ]
  },
  {
   "cell_type": "code",
   "execution_count": 2,
   "metadata": {
    "scrolled": true
   },
   "outputs": [],
   "source": [
    "event_series = [\n",
    "    ('2019-05-01 00:00:00', 8000, 8000),\n",
    "    ('2019-05-01 06:00:00', 10000, 9780),\n",
    "    ('2019-05-01 12:00:00', 14000, 13972),\n",
    "    ('2019-05-01 18:00:00', 9000, 8997),\n",
    "    ('2019-05-02 00:00:00', 10000, 876),\n",
    "    ('2019-05-02 06:00:00', 16000, 13957),\n",
    "    ('2019-05-02 12:00:00', 18000, 18000),\n",
    "    ('2019-05-02 18:00:00', 12000, 12000),\n",
    "    ('2019-05-03 00:00:00', 10000, 10000),\n",
    "    ('2019-05-03 06:00:00', 20000, 20000),\n",
    "    ('2019-05-03 12:00:00', 17000, 17000),\n",
    "    ('2019-05-03 18:00:00', 9000, 9000),\n",
    "    ('2019-05-04 00:00:00', 11000, 11000),\n",
    "    ('2019-05-04 06:00:00', 15000, 15000),\n",
    "    ('2019-05-04 12:00:00', 16000, 15000),\n",
    "    ('2019-05-04 18:00:00', 12000, 10592),\n",
    "    ('2019-05-05 00:00:00', 8000, 7995),\n",
    "    ('2019-05-05 06:00:00', 12000, 12000),\n",
    "    ('2019-05-05 12:00:00', 15000, 15000),\n",
    "    ('2019-05-05 18:00:00', 12000, 12000),\n",
    "    ('2019-05-06 00:00:00', 9000, 9000),\n",
    "    ('2019-05-06 06:00:00', 28000, 26000),\n",
    "    ('2019-05-06 12:00:00', 19000, 18572),\n",
    "    ('2019-05-06 18:00:00', 12000, 12000),\n",
    "    ('2019-05-07 00:00:00', 10000, 10000),\n",
    "    ('2019-05-07 06:00:00', 15000, 15000),\n",
    "    ('2019-05-07 12:00:00', 12000, 12000),\n",
    "    ('2019-05-07 18:00:00', 9000, 9000),\n",
    "    ('2019-05-08 00:00:00', 10000, 9987),\n",
    "    ('2019-05-08 06:00:00', 14000, 12851),\n",
    "    ('2019-05-08 12:00:00', 17000, 16252),\n",
    "    ('2019-05-08 18:00:00', 12000, 12000),\n",
    "    ('2019-05-09 00:00:00', 11000, 11000),\n",
    "    ('2019-05-09 06:00:00', 19000, 17000),\n",
    "    ('2019-05-09 12:00:00', 13000, 11000),\n",
    "    ('2019-05-09 18:00:00', 10000, 10000),    \n",
    "]"
   ]
  },
  {
   "cell_type": "markdown",
   "metadata": {},
   "source": [
    "We'll start by converting this pair of time series into a pandas dataframe, and computing both the indicator and the gap (1 - indicator):"
   ]
  },
  {
   "cell_type": "code",
   "execution_count": 3,
   "metadata": {},
   "outputs": [
    {
     "data": {
      "text/html": [
       "<div>\n",
       "<style scoped>\n",
       "    .dataframe tbody tr th:only-of-type {\n",
       "        vertical-align: middle;\n",
       "    }\n",
       "\n",
       "    .dataframe tbody tr th {\n",
       "        vertical-align: top;\n",
       "    }\n",
       "\n",
       "    .dataframe thead th {\n",
       "        text-align: right;\n",
       "    }\n",
       "</style>\n",
       "<table border=\"1\" class=\"dataframe\">\n",
       "  <thead>\n",
       "    <tr style=\"text-align: right;\">\n",
       "      <th></th>\n",
       "      <th>valid_events</th>\n",
       "      <th>good_events</th>\n",
       "      <th>bad_events</th>\n",
       "      <th>indicator</th>\n",
       "      <th>gap</th>\n",
       "    </tr>\n",
       "    <tr>\n",
       "      <th>timestamp</th>\n",
       "      <th></th>\n",
       "      <th></th>\n",
       "      <th></th>\n",
       "      <th></th>\n",
       "      <th></th>\n",
       "    </tr>\n",
       "  </thead>\n",
       "  <tbody>\n",
       "    <tr>\n",
       "      <th>2019-05-01 00:00:00</th>\n",
       "      <td>8000</td>\n",
       "      <td>8000</td>\n",
       "      <td>0</td>\n",
       "      <td>1.000000</td>\n",
       "      <td>0.000000</td>\n",
       "    </tr>\n",
       "    <tr>\n",
       "      <th>2019-05-01 06:00:00</th>\n",
       "      <td>10000</td>\n",
       "      <td>9780</td>\n",
       "      <td>220</td>\n",
       "      <td>0.978000</td>\n",
       "      <td>0.022000</td>\n",
       "    </tr>\n",
       "    <tr>\n",
       "      <th>2019-05-01 12:00:00</th>\n",
       "      <td>14000</td>\n",
       "      <td>13972</td>\n",
       "      <td>28</td>\n",
       "      <td>0.998000</td>\n",
       "      <td>0.002000</td>\n",
       "    </tr>\n",
       "    <tr>\n",
       "      <th>2019-05-01 18:00:00</th>\n",
       "      <td>9000</td>\n",
       "      <td>8997</td>\n",
       "      <td>3</td>\n",
       "      <td>0.999667</td>\n",
       "      <td>0.000333</td>\n",
       "    </tr>\n",
       "    <tr>\n",
       "      <th>2019-05-02 00:00:00</th>\n",
       "      <td>10000</td>\n",
       "      <td>876</td>\n",
       "      <td>9124</td>\n",
       "      <td>0.087600</td>\n",
       "      <td>0.912400</td>\n",
       "    </tr>\n",
       "    <tr>\n",
       "      <th>2019-05-02 06:00:00</th>\n",
       "      <td>16000</td>\n",
       "      <td>13957</td>\n",
       "      <td>2043</td>\n",
       "      <td>0.872313</td>\n",
       "      <td>0.127687</td>\n",
       "    </tr>\n",
       "    <tr>\n",
       "      <th>2019-05-02 12:00:00</th>\n",
       "      <td>18000</td>\n",
       "      <td>18000</td>\n",
       "      <td>0</td>\n",
       "      <td>1.000000</td>\n",
       "      <td>0.000000</td>\n",
       "    </tr>\n",
       "    <tr>\n",
       "      <th>2019-05-02 18:00:00</th>\n",
       "      <td>12000</td>\n",
       "      <td>12000</td>\n",
       "      <td>0</td>\n",
       "      <td>1.000000</td>\n",
       "      <td>0.000000</td>\n",
       "    </tr>\n",
       "    <tr>\n",
       "      <th>2019-05-03 00:00:00</th>\n",
       "      <td>10000</td>\n",
       "      <td>10000</td>\n",
       "      <td>0</td>\n",
       "      <td>1.000000</td>\n",
       "      <td>0.000000</td>\n",
       "    </tr>\n",
       "    <tr>\n",
       "      <th>2019-05-03 06:00:00</th>\n",
       "      <td>20000</td>\n",
       "      <td>20000</td>\n",
       "      <td>0</td>\n",
       "      <td>1.000000</td>\n",
       "      <td>0.000000</td>\n",
       "    </tr>\n",
       "    <tr>\n",
       "      <th>2019-05-03 12:00:00</th>\n",
       "      <td>17000</td>\n",
       "      <td>17000</td>\n",
       "      <td>0</td>\n",
       "      <td>1.000000</td>\n",
       "      <td>0.000000</td>\n",
       "    </tr>\n",
       "    <tr>\n",
       "      <th>2019-05-03 18:00:00</th>\n",
       "      <td>9000</td>\n",
       "      <td>9000</td>\n",
       "      <td>0</td>\n",
       "      <td>1.000000</td>\n",
       "      <td>0.000000</td>\n",
       "    </tr>\n",
       "    <tr>\n",
       "      <th>2019-05-04 00:00:00</th>\n",
       "      <td>11000</td>\n",
       "      <td>11000</td>\n",
       "      <td>0</td>\n",
       "      <td>1.000000</td>\n",
       "      <td>0.000000</td>\n",
       "    </tr>\n",
       "    <tr>\n",
       "      <th>2019-05-04 06:00:00</th>\n",
       "      <td>15000</td>\n",
       "      <td>15000</td>\n",
       "      <td>0</td>\n",
       "      <td>1.000000</td>\n",
       "      <td>0.000000</td>\n",
       "    </tr>\n",
       "    <tr>\n",
       "      <th>2019-05-04 12:00:00</th>\n",
       "      <td>16000</td>\n",
       "      <td>15000</td>\n",
       "      <td>1000</td>\n",
       "      <td>0.937500</td>\n",
       "      <td>0.062500</td>\n",
       "    </tr>\n",
       "    <tr>\n",
       "      <th>2019-05-04 18:00:00</th>\n",
       "      <td>12000</td>\n",
       "      <td>10592</td>\n",
       "      <td>1408</td>\n",
       "      <td>0.882667</td>\n",
       "      <td>0.117333</td>\n",
       "    </tr>\n",
       "    <tr>\n",
       "      <th>2019-05-05 00:00:00</th>\n",
       "      <td>8000</td>\n",
       "      <td>7995</td>\n",
       "      <td>5</td>\n",
       "      <td>0.999375</td>\n",
       "      <td>0.000625</td>\n",
       "    </tr>\n",
       "    <tr>\n",
       "      <th>2019-05-05 06:00:00</th>\n",
       "      <td>12000</td>\n",
       "      <td>12000</td>\n",
       "      <td>0</td>\n",
       "      <td>1.000000</td>\n",
       "      <td>0.000000</td>\n",
       "    </tr>\n",
       "    <tr>\n",
       "      <th>2019-05-05 12:00:00</th>\n",
       "      <td>15000</td>\n",
       "      <td>15000</td>\n",
       "      <td>0</td>\n",
       "      <td>1.000000</td>\n",
       "      <td>0.000000</td>\n",
       "    </tr>\n",
       "    <tr>\n",
       "      <th>2019-05-05 18:00:00</th>\n",
       "      <td>12000</td>\n",
       "      <td>12000</td>\n",
       "      <td>0</td>\n",
       "      <td>1.000000</td>\n",
       "      <td>0.000000</td>\n",
       "    </tr>\n",
       "    <tr>\n",
       "      <th>2019-05-06 00:00:00</th>\n",
       "      <td>9000</td>\n",
       "      <td>9000</td>\n",
       "      <td>0</td>\n",
       "      <td>1.000000</td>\n",
       "      <td>0.000000</td>\n",
       "    </tr>\n",
       "    <tr>\n",
       "      <th>2019-05-06 06:00:00</th>\n",
       "      <td>28000</td>\n",
       "      <td>26000</td>\n",
       "      <td>2000</td>\n",
       "      <td>0.928571</td>\n",
       "      <td>0.071429</td>\n",
       "    </tr>\n",
       "    <tr>\n",
       "      <th>2019-05-06 12:00:00</th>\n",
       "      <td>19000</td>\n",
       "      <td>18572</td>\n",
       "      <td>428</td>\n",
       "      <td>0.977474</td>\n",
       "      <td>0.022526</td>\n",
       "    </tr>\n",
       "    <tr>\n",
       "      <th>2019-05-06 18:00:00</th>\n",
       "      <td>12000</td>\n",
       "      <td>12000</td>\n",
       "      <td>0</td>\n",
       "      <td>1.000000</td>\n",
       "      <td>0.000000</td>\n",
       "    </tr>\n",
       "    <tr>\n",
       "      <th>2019-05-07 00:00:00</th>\n",
       "      <td>10000</td>\n",
       "      <td>10000</td>\n",
       "      <td>0</td>\n",
       "      <td>1.000000</td>\n",
       "      <td>0.000000</td>\n",
       "    </tr>\n",
       "    <tr>\n",
       "      <th>2019-05-07 06:00:00</th>\n",
       "      <td>15000</td>\n",
       "      <td>15000</td>\n",
       "      <td>0</td>\n",
       "      <td>1.000000</td>\n",
       "      <td>0.000000</td>\n",
       "    </tr>\n",
       "    <tr>\n",
       "      <th>2019-05-07 12:00:00</th>\n",
       "      <td>12000</td>\n",
       "      <td>12000</td>\n",
       "      <td>0</td>\n",
       "      <td>1.000000</td>\n",
       "      <td>0.000000</td>\n",
       "    </tr>\n",
       "    <tr>\n",
       "      <th>2019-05-07 18:00:00</th>\n",
       "      <td>9000</td>\n",
       "      <td>9000</td>\n",
       "      <td>0</td>\n",
       "      <td>1.000000</td>\n",
       "      <td>0.000000</td>\n",
       "    </tr>\n",
       "    <tr>\n",
       "      <th>2019-05-08 00:00:00</th>\n",
       "      <td>10000</td>\n",
       "      <td>9987</td>\n",
       "      <td>13</td>\n",
       "      <td>0.998700</td>\n",
       "      <td>0.001300</td>\n",
       "    </tr>\n",
       "    <tr>\n",
       "      <th>2019-05-08 06:00:00</th>\n",
       "      <td>14000</td>\n",
       "      <td>12851</td>\n",
       "      <td>1149</td>\n",
       "      <td>0.917929</td>\n",
       "      <td>0.082071</td>\n",
       "    </tr>\n",
       "    <tr>\n",
       "      <th>2019-05-08 12:00:00</th>\n",
       "      <td>17000</td>\n",
       "      <td>16252</td>\n",
       "      <td>748</td>\n",
       "      <td>0.956000</td>\n",
       "      <td>0.044000</td>\n",
       "    </tr>\n",
       "    <tr>\n",
       "      <th>2019-05-08 18:00:00</th>\n",
       "      <td>12000</td>\n",
       "      <td>12000</td>\n",
       "      <td>0</td>\n",
       "      <td>1.000000</td>\n",
       "      <td>0.000000</td>\n",
       "    </tr>\n",
       "    <tr>\n",
       "      <th>2019-05-09 00:00:00</th>\n",
       "      <td>11000</td>\n",
       "      <td>11000</td>\n",
       "      <td>0</td>\n",
       "      <td>1.000000</td>\n",
       "      <td>0.000000</td>\n",
       "    </tr>\n",
       "    <tr>\n",
       "      <th>2019-05-09 06:00:00</th>\n",
       "      <td>19000</td>\n",
       "      <td>17000</td>\n",
       "      <td>2000</td>\n",
       "      <td>0.894737</td>\n",
       "      <td>0.105263</td>\n",
       "    </tr>\n",
       "    <tr>\n",
       "      <th>2019-05-09 12:00:00</th>\n",
       "      <td>13000</td>\n",
       "      <td>11000</td>\n",
       "      <td>2000</td>\n",
       "      <td>0.846154</td>\n",
       "      <td>0.153846</td>\n",
       "    </tr>\n",
       "    <tr>\n",
       "      <th>2019-05-09 18:00:00</th>\n",
       "      <td>10000</td>\n",
       "      <td>10000</td>\n",
       "      <td>0</td>\n",
       "      <td>1.000000</td>\n",
       "      <td>0.000000</td>\n",
       "    </tr>\n",
       "  </tbody>\n",
       "</table>\n",
       "</div>"
      ],
      "text/plain": [
       "                     valid_events  good_events  bad_events  indicator  \\\n",
       "timestamp                                                               \n",
       "2019-05-01 00:00:00          8000         8000           0   1.000000   \n",
       "2019-05-01 06:00:00         10000         9780         220   0.978000   \n",
       "2019-05-01 12:00:00         14000        13972          28   0.998000   \n",
       "2019-05-01 18:00:00          9000         8997           3   0.999667   \n",
       "2019-05-02 00:00:00         10000          876        9124   0.087600   \n",
       "2019-05-02 06:00:00         16000        13957        2043   0.872313   \n",
       "2019-05-02 12:00:00         18000        18000           0   1.000000   \n",
       "2019-05-02 18:00:00         12000        12000           0   1.000000   \n",
       "2019-05-03 00:00:00         10000        10000           0   1.000000   \n",
       "2019-05-03 06:00:00         20000        20000           0   1.000000   \n",
       "2019-05-03 12:00:00         17000        17000           0   1.000000   \n",
       "2019-05-03 18:00:00          9000         9000           0   1.000000   \n",
       "2019-05-04 00:00:00         11000        11000           0   1.000000   \n",
       "2019-05-04 06:00:00         15000        15000           0   1.000000   \n",
       "2019-05-04 12:00:00         16000        15000        1000   0.937500   \n",
       "2019-05-04 18:00:00         12000        10592        1408   0.882667   \n",
       "2019-05-05 00:00:00          8000         7995           5   0.999375   \n",
       "2019-05-05 06:00:00         12000        12000           0   1.000000   \n",
       "2019-05-05 12:00:00         15000        15000           0   1.000000   \n",
       "2019-05-05 18:00:00         12000        12000           0   1.000000   \n",
       "2019-05-06 00:00:00          9000         9000           0   1.000000   \n",
       "2019-05-06 06:00:00         28000        26000        2000   0.928571   \n",
       "2019-05-06 12:00:00         19000        18572         428   0.977474   \n",
       "2019-05-06 18:00:00         12000        12000           0   1.000000   \n",
       "2019-05-07 00:00:00         10000        10000           0   1.000000   \n",
       "2019-05-07 06:00:00         15000        15000           0   1.000000   \n",
       "2019-05-07 12:00:00         12000        12000           0   1.000000   \n",
       "2019-05-07 18:00:00          9000         9000           0   1.000000   \n",
       "2019-05-08 00:00:00         10000         9987          13   0.998700   \n",
       "2019-05-08 06:00:00         14000        12851        1149   0.917929   \n",
       "2019-05-08 12:00:00         17000        16252         748   0.956000   \n",
       "2019-05-08 18:00:00         12000        12000           0   1.000000   \n",
       "2019-05-09 00:00:00         11000        11000           0   1.000000   \n",
       "2019-05-09 06:00:00         19000        17000        2000   0.894737   \n",
       "2019-05-09 12:00:00         13000        11000        2000   0.846154   \n",
       "2019-05-09 18:00:00         10000        10000           0   1.000000   \n",
       "\n",
       "                          gap  \n",
       "timestamp                      \n",
       "2019-05-01 00:00:00  0.000000  \n",
       "2019-05-01 06:00:00  0.022000  \n",
       "2019-05-01 12:00:00  0.002000  \n",
       "2019-05-01 18:00:00  0.000333  \n",
       "2019-05-02 00:00:00  0.912400  \n",
       "2019-05-02 06:00:00  0.127687  \n",
       "2019-05-02 12:00:00  0.000000  \n",
       "2019-05-02 18:00:00  0.000000  \n",
       "2019-05-03 00:00:00  0.000000  \n",
       "2019-05-03 06:00:00  0.000000  \n",
       "2019-05-03 12:00:00  0.000000  \n",
       "2019-05-03 18:00:00  0.000000  \n",
       "2019-05-04 00:00:00  0.000000  \n",
       "2019-05-04 06:00:00  0.000000  \n",
       "2019-05-04 12:00:00  0.062500  \n",
       "2019-05-04 18:00:00  0.117333  \n",
       "2019-05-05 00:00:00  0.000625  \n",
       "2019-05-05 06:00:00  0.000000  \n",
       "2019-05-05 12:00:00  0.000000  \n",
       "2019-05-05 18:00:00  0.000000  \n",
       "2019-05-06 00:00:00  0.000000  \n",
       "2019-05-06 06:00:00  0.071429  \n",
       "2019-05-06 12:00:00  0.022526  \n",
       "2019-05-06 18:00:00  0.000000  \n",
       "2019-05-07 00:00:00  0.000000  \n",
       "2019-05-07 06:00:00  0.000000  \n",
       "2019-05-07 12:00:00  0.000000  \n",
       "2019-05-07 18:00:00  0.000000  \n",
       "2019-05-08 00:00:00  0.001300  \n",
       "2019-05-08 06:00:00  0.082071  \n",
       "2019-05-08 12:00:00  0.044000  \n",
       "2019-05-08 18:00:00  0.000000  \n",
       "2019-05-09 00:00:00  0.000000  \n",
       "2019-05-09 06:00:00  0.105263  \n",
       "2019-05-09 12:00:00  0.153846  \n",
       "2019-05-09 18:00:00  0.000000  "
      ]
     },
     "execution_count": 3,
     "metadata": {},
     "output_type": "execute_result"
    }
   ],
   "source": [
    "data={\n",
    "    'timestamp': [e[0] for e in event_series],\n",
    "    'valid_events': [e[1] for e in event_series],\n",
    "    'good_events': [e[2] for e in event_series]\n",
    "}\n",
    "\n",
    "df = pd.DataFrame(data, columns=['timestamp', 'valid_events', 'good_events'])\n",
    "df['timestamp'] = pd.to_datetime(df['timestamp'])\n",
    "df.index = df['timestamp']\n",
    "del df['timestamp']\n",
    "\n",
    "df['bad_events'] = df['valid_events'] - df['good_events']\n",
    "df['indicator'] = df['good_events'] / df['valid_events']\n",
    "df['gap'] = 1.0 - df['indicator']\n",
    "\n",
    "df"
   ]
  },
  {
   "cell_type": "markdown",
   "metadata": {},
   "source": [
    "From this, we can visualize a seven-day rolling SLI as it would appear at the end of the seventh day:"
   ]
  },
  {
   "cell_type": "code",
   "execution_count": 4,
   "metadata": {},
   "outputs": [
    {
     "data": {
      "text/plain": [
       "<matplotlib.axes._subplots.AxesSubplot at 0x1a0eaa5d2b0>"
      ]
     },
     "execution_count": 4,
     "metadata": {},
     "output_type": "execute_result"
    }
   ],
   "source": [
    "df['2019-05-01 00:00:00':'2019-05-07 23:59:59'][['indicator', 'gap']].plot.area(linewidth=0)"
   ]
  },
  {
   "cell_type": "markdown",
   "metadata": {},
   "source": [
    "With this visualization, we can easily see the degree of impact on the service that occurred at the beginning of day 2.\n",
    "\n",
    "Since we have additional data in the series, we can also look at what the resulting rolling 7-day visualization would be after the end of day 9:"
   ]
  },
  {
   "cell_type": "code",
   "execution_count": 5,
   "metadata": {},
   "outputs": [
    {
     "data": {
      "text/plain": [
       "<matplotlib.axes._subplots.AxesSubplot at 0x1a0eccb2550>"
      ]
     },
     "execution_count": 5,
     "metadata": {},
     "output_type": "execute_result"
    },
    {
     "data": {
      "image/png": "[encoded data removed]",
      "text/plain": [
       "<Figure size 432x288 with 1 Axes>"
      ]
     },
     "metadata": {
      "needs_background": "light"
     },
     "output_type": "display_data"
    }
   ],
   "source": [
    "df['2019-05-03 00:00:00':'2019-05-09 23:59:59'][['indicator', 'gap']].plot.area(linewidth=0)"
   ]
  },
  {
   "cell_type": "markdown",
   "metadata": {},
   "source": [
    "# Visualizing Service Level Objectives\n",
    "\n",
    "A service level objective (SLO) is constructed over an SLI. Since the SLI above is covered in small (6-hour increments) of time, we can construct our SLO over a week-long period. A useful way of visualizng an SLO is to plot the *remaining error budget* for the period covered by the SLO. The error budget is simply defined as 100 - SLO.\n",
    "\n",
    "To start with, we need to construct the rolling timeseries for the valid and good events:"
   ]
  },
  {
   "cell_type": "code",
   "execution_count": 6,
   "metadata": {},
   "outputs": [
    {
     "name": "stdout",
     "output_type": "stream",
     "text": [
      "error budget: 18400\n"
     ]
    },
    {
     "data": {
      "text/plain": [
       "<matplotlib.axes._subplots.AxesSubplot at 0x1a0ecd1ec50>"
      ]
     },
     "execution_count": 6,
     "metadata": {},
     "output_type": "execute_result"
    },
    {
     "data": {
      "image/png": "[encoded data removed]",
      "text/plain": [
       "<Figure size 432x288 with 1 Axes>"
      ]
     },
     "metadata": {
      "needs_background": "light"
     },
     "output_type": "display_data"
    }
   ],
   "source": [
    "availability_target = 0.95\n",
    "\n",
    "window_df = df['2019-05-01 00:00:00':'2019-05-07 23:59:59']\n",
    "error_budget = int(window_df['valid_events'].sum() * (1-availability_target))\n",
    "print('error budget: {}'.format(error_budget))\n",
    "budget_df = error_budget - window_df['bad_events'].cumsum()\n",
    "budget_df.plot.area(linewidth=0)"
   ]
  },
  {
   "cell_type": "code",
   "execution_count": 7,
   "metadata": {},
   "outputs": [
    {
     "name": "stdout",
     "output_type": "stream",
     "text": [
      "error budget: 18850\n"
     ]
    },
    {
     "data": {
      "text/plain": [
       "<matplotlib.axes._subplots.AxesSubplot at 0x1a0ecdb6278>"
      ]
     },
     "execution_count": 7,
     "metadata": {},
     "output_type": "execute_result"
    },
    {
     "data": {
      "image/png": "[encoded data removed]",
      "text/plain": [
       "<Figure size 432x288 with 1 Axes>"
      ]
     },
     "metadata": {
      "needs_background": "light"
     },
     "output_type": "display_data"
    }
   ],
   "source": [
    "availability_target = 0.95\n",
    "\n",
    "window_df = df['2019-05-03 00:00:00':'2019-05-09 23:59:59']\n",
    "error_budget = int(window_df['valid_events'].sum() * (1-availability_target))\n",
    "print('error budget: {}'.format(error_budget))\n",
    "budget_df = error_budget - window_df['bad_events'].cumsum()\n",
    "budget_df.plot.area(linewidth=0)"
   ]
  },
  {
   "cell_type": "markdown",
   "metadata": {},
   "source": [
    "# References\n",
    "\n",
    "Beyer, Betsy, Niall Richard Murphy, David K. Rensin, Kent Kawahara, and Stephen Thorne. 2018. _The Site Reliability Workbook: Practical Ways to Implement SRE_. Sebastopol, CA: O'Reilly."
   ]
  },
  {
   "cell_type": "code",
   "execution_count": null,
   "metadata": {},
   "outputs": [],
   "source": []
  }
 ],
 "metadata": {
  "kernelspec": {
   "display_name": "Python 3",
   "language": "python",
   "name": "python3"
  },
  "language_info": {
   "codemirror_mode": {
    "name": "ipython",
    "version": 3
   },
   "file_extension": ".py",
   "mimetype": "text/x-python",
   "name": "python",
   "nbconvert_exporter": "python",
   "pygments_lexer": "ipython3",
   "version": "3.7.2"
  }
 },
 "nbformat": 4,
 "nbformat_minor": 2
}
